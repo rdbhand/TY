{
 "cells": [
  {
   "cell_type": "markdown",
   "id": "53bc9619-0c87-446c-aefe-9096b0cfb4b6",
   "metadata": {
    "scrolled": true
   },
   "source": [
    "Use any suitable dataset (e.g. https://www.kaggle.com/zhaoyingzhu/heartesv) and Perform following operation on given dataset suitable programming language, a) Find Missing Values and replace the missing values with suitable alternative. b) Remove inconsistency (if any) in the dataset. c) Prepare boxplot analysis for each numerical attribute. Find outliers (if any) in each attribute in the dataset. d) Draw histogram for any two suitable attributes (E.g. age and Chol attributes for above dataset) e) Find data type of each column. f) Finding out Zero's. g) Find Mean age of patients considering above dataset. h) Find shape of data.\n"
   ]
  },
  {
   "cell_type": "code",
   "execution_count": 3,
   "id": "25559616-1dff-4e28-b788-644b90271f02",
   "metadata": {},
   "outputs": [
    {
     "name": "stdout",
     "output_type": "stream",
     "text": [
      "                  match teamInnings  battingPos             batsmanName  runs  \\\n",
      "0  Namibia Vs Sri Lanka     Namibia           1      Michael van Lingen     3   \n",
      "1  Namibia Vs Sri Lanka     Namibia           2           Divan la Cock     9   \n",
      "2  Namibia Vs Sri Lanka     Namibia           3  Jan Nicol Loftie-Eaton    20   \n",
      "3  Namibia Vs Sri Lanka     Namibia           4           Stephan Baard    26   \n",
      "4  Namibia Vs Sri Lanka     Namibia           5      Gerhard Erasmus(c)    20   \n",
      "\n",
      "   balls  4s  6s      SR out/not_out     match_id  \n",
      "0      6   0   0   50.00         out  T20I # 1823  \n",
      "1      9   1   0  100.00         out  T20I # 1823  \n",
      "2     12   1   2  166.66         out  T20I # 1823  \n",
      "3     24   2   0  108.33         out  T20I # 1823  \n",
      "4     24   0   0   83.33         out  T20I # 1823  \n",
      "match          0\n",
      "teamInnings    0\n",
      "battingPos     0\n",
      "batsmanName    0\n",
      "runs           0\n",
      "balls          0\n",
      "4s             0\n",
      "6s             0\n",
      "SR             0\n",
      "out/not_out    0\n",
      "match_id       0\n",
      "dtype: int64\n",
      "match          0\n",
      "teamInnings    0\n",
      "battingPos     0\n",
      "batsmanName    0\n",
      "runs           0\n",
      "balls          0\n",
      "4s             0\n",
      "6s             0\n",
      "SR             0\n",
      "out/not_out    0\n",
      "match_id       0\n",
      "dtype: int64\n"
     ]
    }
   ],
   "source": [
    "import numpy as np\n",
    "import pandas as pd\n",
    "df=pd.read_csv(\"C:/Users/OM/DMWL/ASS1/df_batting.csv\")\n",
    "\n",
    "# Displaying first 5 records\n",
    "print(df.head())\n",
    "print(df.isnull().sum())\n",
    "df.fillna(df.select_dtypes(include=['number']).mean(), inplace=True)\n",
    "print(df.isnull().sum())"
   ]
  },
  {
   "cell_type": "code",
   "execution_count": 5,
   "id": "50bb0f78-fe34-4384-8ab1-e7c53aa6fbd0",
   "metadata": {},
   "outputs": [
    {
     "data": {
      "text/plain": [
       "0      False\n",
       "1      False\n",
       "2      False\n",
       "3      False\n",
       "4      False\n",
       "       ...  \n",
       "694    False\n",
       "695    False\n",
       "696    False\n",
       "697    False\n",
       "698    False\n",
       "Length: 699, dtype: bool"
      ]
     },
     "execution_count": 5,
     "metadata": {},
     "output_type": "execute_result"
    }
   ],
   "source": [
    "df.duplicated()"
   ]
  },
  {
   "cell_type": "code",
   "execution_count": 7,
   "id": "90182dc2-8494-40ec-b515-0d72669757b6",
   "metadata": {},
   "outputs": [
    {
     "data": {
      "text/html": [
       "<div>\n",
       "<style scoped>\n",
       "    .dataframe tbody tr th:only-of-type {\n",
       "        vertical-align: middle;\n",
       "    }\n",
       "\n",
       "    .dataframe tbody tr th {\n",
       "        vertical-align: top;\n",
       "    }\n",
       "\n",
       "    .dataframe thead th {\n",
       "        text-align: right;\n",
       "    }\n",
       "</style>\n",
       "<table border=\"1\" class=\"dataframe\">\n",
       "  <thead>\n",
       "    <tr style=\"text-align: right;\">\n",
       "      <th></th>\n",
       "      <th>match</th>\n",
       "      <th>teamInnings</th>\n",
       "      <th>battingPos</th>\n",
       "      <th>batsmanName</th>\n",
       "      <th>runs</th>\n",
       "      <th>balls</th>\n",
       "      <th>4s</th>\n",
       "      <th>6s</th>\n",
       "      <th>SR</th>\n",
       "      <th>out/not_out</th>\n",
       "      <th>match_id</th>\n",
       "    </tr>\n",
       "  </thead>\n",
       "  <tbody>\n",
       "    <tr>\n",
       "      <th>0</th>\n",
       "      <td>Namibia Vs Sri Lanka</td>\n",
       "      <td>Namibia</td>\n",
       "      <td>1</td>\n",
       "      <td>Michael van Lingen</td>\n",
       "      <td>3</td>\n",
       "      <td>6</td>\n",
       "      <td>0</td>\n",
       "      <td>0</td>\n",
       "      <td>50.00</td>\n",
       "      <td>out</td>\n",
       "      <td>T20I # 1823</td>\n",
       "    </tr>\n",
       "    <tr>\n",
       "      <th>1</th>\n",
       "      <td>Namibia Vs Sri Lanka</td>\n",
       "      <td>Namibia</td>\n",
       "      <td>2</td>\n",
       "      <td>Divan la Cock</td>\n",
       "      <td>9</td>\n",
       "      <td>9</td>\n",
       "      <td>1</td>\n",
       "      <td>0</td>\n",
       "      <td>100.00</td>\n",
       "      <td>out</td>\n",
       "      <td>T20I # 1823</td>\n",
       "    </tr>\n",
       "    <tr>\n",
       "      <th>2</th>\n",
       "      <td>Namibia Vs Sri Lanka</td>\n",
       "      <td>Namibia</td>\n",
       "      <td>3</td>\n",
       "      <td>Jan Nicol Loftie-Eaton</td>\n",
       "      <td>20</td>\n",
       "      <td>12</td>\n",
       "      <td>1</td>\n",
       "      <td>2</td>\n",
       "      <td>166.66</td>\n",
       "      <td>out</td>\n",
       "      <td>T20I # 1823</td>\n",
       "    </tr>\n",
       "    <tr>\n",
       "      <th>3</th>\n",
       "      <td>Namibia Vs Sri Lanka</td>\n",
       "      <td>Namibia</td>\n",
       "      <td>4</td>\n",
       "      <td>Stephan Baard</td>\n",
       "      <td>26</td>\n",
       "      <td>24</td>\n",
       "      <td>2</td>\n",
       "      <td>0</td>\n",
       "      <td>108.33</td>\n",
       "      <td>out</td>\n",
       "      <td>T20I # 1823</td>\n",
       "    </tr>\n",
       "    <tr>\n",
       "      <th>4</th>\n",
       "      <td>Namibia Vs Sri Lanka</td>\n",
       "      <td>Namibia</td>\n",
       "      <td>5</td>\n",
       "      <td>Gerhard Erasmus(c)</td>\n",
       "      <td>20</td>\n",
       "      <td>24</td>\n",
       "      <td>0</td>\n",
       "      <td>0</td>\n",
       "      <td>83.33</td>\n",
       "      <td>out</td>\n",
       "      <td>T20I # 1823</td>\n",
       "    </tr>\n",
       "    <tr>\n",
       "      <th>...</th>\n",
       "      <td>...</td>\n",
       "      <td>...</td>\n",
       "      <td>...</td>\n",
       "      <td>...</td>\n",
       "      <td>...</td>\n",
       "      <td>...</td>\n",
       "      <td>...</td>\n",
       "      <td>...</td>\n",
       "      <td>...</td>\n",
       "      <td>...</td>\n",
       "      <td>...</td>\n",
       "    </tr>\n",
       "    <tr>\n",
       "      <th>694</th>\n",
       "      <td>Pakistan Vs England</td>\n",
       "      <td>England</td>\n",
       "      <td>3</td>\n",
       "      <td>Phil Salt</td>\n",
       "      <td>10</td>\n",
       "      <td>9</td>\n",
       "      <td>2</td>\n",
       "      <td>0</td>\n",
       "      <td>111.11</td>\n",
       "      <td>out</td>\n",
       "      <td>T20I # 1879</td>\n",
       "    </tr>\n",
       "    <tr>\n",
       "      <th>695</th>\n",
       "      <td>Pakistan Vs England</td>\n",
       "      <td>England</td>\n",
       "      <td>4</td>\n",
       "      <td>Ben Stokes</td>\n",
       "      <td>52</td>\n",
       "      <td>49</td>\n",
       "      <td>5</td>\n",
       "      <td>1</td>\n",
       "      <td>106.12</td>\n",
       "      <td>not_out</td>\n",
       "      <td>T20I # 1879</td>\n",
       "    </tr>\n",
       "    <tr>\n",
       "      <th>696</th>\n",
       "      <td>Pakistan Vs England</td>\n",
       "      <td>England</td>\n",
       "      <td>5</td>\n",
       "      <td>Harry Brook</td>\n",
       "      <td>20</td>\n",
       "      <td>23</td>\n",
       "      <td>1</td>\n",
       "      <td>0</td>\n",
       "      <td>86.95</td>\n",
       "      <td>out</td>\n",
       "      <td>T20I # 1879</td>\n",
       "    </tr>\n",
       "    <tr>\n",
       "      <th>697</th>\n",
       "      <td>Pakistan Vs England</td>\n",
       "      <td>England</td>\n",
       "      <td>6</td>\n",
       "      <td>Moeen Ali</td>\n",
       "      <td>19</td>\n",
       "      <td>13</td>\n",
       "      <td>3</td>\n",
       "      <td>0</td>\n",
       "      <td>146.15</td>\n",
       "      <td>out</td>\n",
       "      <td>T20I # 1879</td>\n",
       "    </tr>\n",
       "    <tr>\n",
       "      <th>698</th>\n",
       "      <td>Pakistan Vs England</td>\n",
       "      <td>England</td>\n",
       "      <td>7</td>\n",
       "      <td>Liam Livingstone</td>\n",
       "      <td>1</td>\n",
       "      <td>1</td>\n",
       "      <td>0</td>\n",
       "      <td>0</td>\n",
       "      <td>100.00</td>\n",
       "      <td>not_out</td>\n",
       "      <td>T20I # 1879</td>\n",
       "    </tr>\n",
       "  </tbody>\n",
       "</table>\n",
       "<p>699 rows × 11 columns</p>\n",
       "</div>"
      ],
      "text/plain": [
       "                    match teamInnings  battingPos             batsmanName  \\\n",
       "0    Namibia Vs Sri Lanka     Namibia           1      Michael van Lingen   \n",
       "1    Namibia Vs Sri Lanka     Namibia           2           Divan la Cock   \n",
       "2    Namibia Vs Sri Lanka     Namibia           3  Jan Nicol Loftie-Eaton   \n",
       "3    Namibia Vs Sri Lanka     Namibia           4           Stephan Baard   \n",
       "4    Namibia Vs Sri Lanka     Namibia           5      Gerhard Erasmus(c)   \n",
       "..                    ...         ...         ...                     ...   \n",
       "694   Pakistan Vs England     England           3               Phil Salt   \n",
       "695   Pakistan Vs England     England           4              Ben Stokes   \n",
       "696   Pakistan Vs England     England           5             Harry Brook   \n",
       "697   Pakistan Vs England     England           6               Moeen Ali   \n",
       "698   Pakistan Vs England     England           7        Liam Livingstone   \n",
       "\n",
       "     runs  balls  4s  6s      SR out/not_out     match_id  \n",
       "0       3      6   0   0   50.00         out  T20I # 1823  \n",
       "1       9      9   1   0  100.00         out  T20I # 1823  \n",
       "2      20     12   1   2  166.66         out  T20I # 1823  \n",
       "3      26     24   2   0  108.33         out  T20I # 1823  \n",
       "4      20     24   0   0   83.33         out  T20I # 1823  \n",
       "..    ...    ...  ..  ..     ...         ...          ...  \n",
       "694    10      9   2   0  111.11         out  T20I # 1879  \n",
       "695    52     49   5   1  106.12     not_out  T20I # 1879  \n",
       "696    20     23   1   0   86.95         out  T20I # 1879  \n",
       "697    19     13   3   0  146.15         out  T20I # 1879  \n",
       "698     1      1   0   0  100.00     not_out  T20I # 1879  \n",
       "\n",
       "[699 rows x 11 columns]"
      ]
     },
     "execution_count": 7,
     "metadata": {},
     "output_type": "execute_result"
    }
   ],
   "source": [
    "df"
   ]
  },
  {
   "cell_type": "code",
   "execution_count": 9,
   "id": "b5e9b7b9-14db-4f6c-a2d5-6d8a8f1466d2",
   "metadata": {},
   "outputs": [
    {
     "name": "stdout",
     "output_type": "stream",
     "text": [
      "0      False\n",
      "1      False\n",
      "2      False\n",
      "3      False\n",
      "4      False\n",
      "       ...  \n",
      "694    False\n",
      "695    False\n",
      "696    False\n",
      "697    False\n",
      "698    False\n",
      "Length: 699, dtype: bool\n",
      "Count =  0\n"
     ]
    }
   ],
   "source": [
    "print(df.duplicated())\n",
    "print(\"Count = \",end=\" \")\n",
    "print(df.duplicated().sum())"
   ]
  },
  {
   "cell_type": "code",
   "execution_count": 17,
   "id": "efdaab00-5115-4087-be40-950355566712",
   "metadata": {},
   "outputs": [
    {
     "data": {
      "text/plain": [
       "<Axes: >"
      ]
     },
     "execution_count": 17,
     "metadata": {},
     "output_type": "execute_result"
    },
    {
     "data": {
      "image/png": "[encoded data removed]",
      "text/plain": [
       "<Figure size 640x480 with 1 Axes>"
      ]
     },
     "metadata": {},
     "output_type": "display_data"
    }
   ],
   "source": [
    "df['runs'].hist(bins=5)"
   ]
  },
  {
   "cell_type": "code",
   "execution_count": 13,
   "id": "abcb1fd6-a207-4ebd-af1c-3c9a06e99ff8",
   "metadata": {},
   "outputs": [
    {
     "data": {
      "image/png": "[encoded data removed]",
      "text/plain": [
       "<Figure size 700x2000 with 1 Axes>"
      ]
     },
     "metadata": {},
     "output_type": "display_data"
    }
   ],
   "source": [
    "# Boxplot Analysis\n",
    "import seaborn as sb\n",
    "import matplotlib.pyplot as plt\n",
    "plt.figure(figsize=(7, 20))\n",
    "sb.boxplot(data=df)\n",
    "plt.title(\"Boxplot Analysis\")\n",
    "plt.show()"
   ]
  },
  {
   "cell_type": "code",
   "execution_count": 23,
   "id": "8c6a2a8a-544d-4485-9af0-8b28c2bff63b",
   "metadata": {},
   "outputs": [
    {
     "data": {
      "text/plain": [
       "Text(0.5, 1.0, 'Runs Distribution')"
      ]
     },
     "execution_count": 23,
     "metadata": {},
     "output_type": "execute_result"
    },
    {
     "data": {
      "image/png": "[encoded data removed]",
      "text/plain": [
       "<Figure size 1000x500 with 1 Axes>"
      ]
     },
     "metadata": {},
     "output_type": "display_data"
    }
   ],
   "source": [
    "# Histogram\n",
    "plt.figure(figsize=(10, 5))\n",
    "plt.subplot(1, 2, 1)\n",
    "plt.hist(df['runs'], bins=20, color='blue', edgecolor='black')\n",
    "plt.xlabel('Run')\n",
    "plt.ylabel('Frequency')\n",
    "plt.title('Runs Distribution')"
   ]
  },
  {
   "cell_type": "code",
   "execution_count": 31,
   "id": "8db761f0-0836-4163-b0f8-be7ed87409d7",
   "metadata": {},
   "outputs": [
    {
     "data": {
      "text/plain": [
       "Text(0.5, 1.0, '4s Distribution')"
      ]
     },
     "execution_count": 31,
     "metadata": {},
     "output_type": "execute_result"
    },
    {
     "data": {
      "image/png": "[encoded data removed]",
      "text/plain": [
       "<Figure size 1200x500 with 1 Axes>"
      ]
     },
     "metadata": {},
     "output_type": "display_data"
    }
   ],
   "source": [
    "plt.figure(figsize=(12, 5))\n",
    "plt.subplot(1, 2, 1)\n",
    "plt.hist(df['4s'], bins=20, color='blue', edgecolor='black')\n",
    "plt.xlabel('4s')\n",
    "plt.ylabel('Frequency')\n",
    "plt.title('4s Distribution')"
   ]
  },
  {
   "cell_type": "code",
   "execution_count": 35,
   "id": "ef8534b2-cdbc-49a5-bee6-7acb8f782e38",
   "metadata": {},
   "outputs": [
    {
     "name": "stdout",
     "output_type": "stream",
     "text": [
      "match          object\n",
      "teamInnings    object\n",
      "battingPos      int64\n",
      "batsmanName    object\n",
      "runs            int64\n",
      "balls           int64\n",
      "4s              int64\n",
      "6s              int64\n",
      "SR             object\n",
      "out/not_out    object\n",
      "match_id       object\n",
      "dtype: object\n"
     ]
    }
   ],
   "source": [
    "# Datatypes \n",
    "print(df.dtypes)"
   ]
  },
  {
   "cell_type": "code",
   "execution_count": 29,
   "id": "6e020144-feaf-4bb4-ad23-153f8a5819fe",
   "metadata": {},
   "outputs": [
    {
     "name": "stdout",
     "output_type": "stream",
     "text": [
      "Number of zeros in each column:\n",
      " match            0\n",
      "teamInnings      0\n",
      "battingPos       0\n",
      "batsmanName      0\n",
      "runs            82\n",
      "balls           11\n",
      "4s             338\n",
      "6s             502\n",
      "SR               0\n",
      "out/not_out      0\n",
      "match_id         0\n",
      "dtype: int64\n"
     ]
    }
   ],
   "source": [
    "# count zeroes\n",
    "zero_counts = (df == 0).sum()\n",
    "print(\"Number of zeros in each column:\\n\", zero_counts)\n"
   ]
  },
  {
   "cell_type": "code",
   "execution_count": 43,
   "id": "c233c2c0-1283-49e8-b0a2-aa36d730012e",
   "metadata": {},
   "outputs": [
    {
     "name": "stdout",
     "output_type": "stream",
     "text": [
      "Mean of Runs :  15.978540772532188\n",
      "Median of Runs :  9.0\n",
      "Mode of Runs :  0    0\n",
      "Name: runs, dtype: int64\n"
     ]
    }
   ],
   "source": [
    "# mean, mode, median\n",
    "print(\"Mean of Runs : \",end=\" \")\n",
    "print(df['runs'].mean())\n",
    "print(\"Median of Runs : \",end=\" \")\n",
    "print(df['runs'].median())\n",
    "print(\"Mode of Runs : \",end=\" \")\n",
    "print(df['runs'].mode())"
   ]
  },
  {
   "cell_type": "code",
   "execution_count": 47,
   "id": "ed2962ac-c4f7-4b49-be96-4a0fa5713ea4",
   "metadata": {},
   "outputs": [
    {
     "name": "stdout",
     "output_type": "stream",
     "text": [
      "(699, 11)\n"
     ]
    }
   ],
   "source": [
    "# Shape of Dataset\n",
    "print(df.shape)"
   ]
  },
  {
   "cell_type": "code",
   "execution_count": 31,
   "id": "cb6c4afd-c661-4a44-80b0-fd9399b32859",
   "metadata": {},
   "outputs": [
    {
     "name": "stdout",
     "output_type": "stream",
     "text": [
      "<class 'pandas.core.frame.DataFrame'>\n",
      "RangeIndex: 699 entries, 0 to 698\n",
      "Data columns (total 11 columns):\n",
      " #   Column       Non-Null Count  Dtype \n",
      "---  ------       --------------  ----- \n",
      " 0   match        699 non-null    object\n",
      " 1   teamInnings  699 non-null    object\n",
      " 2   battingPos   699 non-null    int64 \n",
      " 3   batsmanName  699 non-null    object\n",
      " 4   runs         699 non-null    int64 \n",
      " 5   balls        699 non-null    int64 \n",
      " 6   4s           699 non-null    int64 \n",
      " 7   6s           699 non-null    int64 \n",
      " 8   SR           699 non-null    object\n",
      " 9   out/not_out  699 non-null    object\n",
      " 10  match_id     699 non-null    object\n",
      "dtypes: int64(5), object(6)\n",
      "memory usage: 60.2+ KB\n"
     ]
    }
   ],
   "source": [
    "df.info()"
   ]
  },
  {
   "cell_type": "code",
   "execution_count": null,
   "id": "a0b69dec-1e90-47c6-b46e-8ba782b2dcb3",
   "metadata": {},
   "outputs": [],
   "source": []
  }
 ],
 "metadata": {
  "kernelspec": {
   "display_name": "Python [conda env:base] *",
   "language": "python",
   "name": "conda-base-py"
  },
  "language_info": {
   "codemirror_mode": {
    "name": "ipython",
    "version": 3
   },
   "file_extension": ".py",
   "mimetype": "text/x-python",
   "name": "python",
   "nbconvert_exporter": "python",
   "pygments_lexer": "ipython3",
   "version": "3.12.4"
  }
 },
 "nbformat": 4,
 "nbformat_minor": 5
}
